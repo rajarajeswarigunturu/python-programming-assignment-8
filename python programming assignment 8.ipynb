{
 "cells": [
  {
   "cell_type": "code",
   "execution_count": 5,
   "id": "5512ed3f",
   "metadata": {},
   "outputs": [],
   "source": [
    "# 1.Write a Python Program to Add Two Matrices?"
   ]
  },
  {
   "cell_type": "code",
   "execution_count": 6,
   "id": "7003d65a",
   "metadata": {},
   "outputs": [
    {
     "name": "stdout",
     "output_type": "stream",
     "text": [
      "[11, 13, 15]\n",
      "[17, 19, 21]\n",
      "[26, 25, 27]\n"
     ]
    }
   ],
   "source": [
    "a = [[1,2,3],\n",
    "    [4,5,6],\n",
    "    [7,8,9]]\n",
    "b = [[10,11,12],\n",
    "    [13,14,15],\n",
    "    [19,17,18]]\n",
    "\n",
    "ans=[[0,0,0],\n",
    "    [0,0,0],\n",
    "    [0,0,0]]\n",
    "\n",
    "for i in range(len(a)):\n",
    "    for j in range(len(a[0])):\n",
    "        ans[i][j] = a[i][j] + b[i][j]\n",
    "        \n",
    "        \n",
    "for r in ans:\n",
    "    print(r)"
   ]
  },
  {
   "cell_type": "code",
   "execution_count": 7,
   "id": "e6468040",
   "metadata": {},
   "outputs": [],
   "source": [
    "#  2.Write a Python Program to Multiply Two Matrices?"
   ]
  },
  {
   "cell_type": "code",
   "execution_count": 12,
   "id": "868098da",
   "metadata": {},
   "outputs": [
    {
     "name": "stdout",
     "output_type": "stream",
     "text": [
      "[29, 37, 34, 5]\n",
      "[74, 97, 73, 14]\n",
      "[119, 157, 112, 23]\n"
     ]
    }
   ],
   "source": [
    "#   3x3 matrix\n",
    "a = [[1, 2, 3],\n",
    "    [4, 5, 6],\n",
    "    [7, 8, 9]]\n",
    " \n",
    "#  3x4 matrix   \n",
    "b = [[5, 8, 1, 2],\n",
    "    [6, 7, 3, 0],\n",
    "    [4, 5, 9, 1]]\n",
    "     \n",
    "ans = [[0, 0, 0, 0],\n",
    "        [0, 0, 0, 0],\n",
    "        [0, 0, 0, 0]]\n",
    " \n",
    "\n",
    "for i in range(len(a)):\n",
    "    for j in range(len(b[0])):\n",
    "        for k in range(len(b)):\n",
    "            ans[i][j] += a[i][k] * b[k][j]\n",
    "for r in ans:\n",
    "    print(r)"
   ]
  },
  {
   "cell_type": "code",
   "execution_count": 13,
   "id": "d3e43cb2",
   "metadata": {},
   "outputs": [],
   "source": [
    "# 3.Write a Python Program to Transpose a Matrix?"
   ]
  },
  {
   "cell_type": "code",
   "execution_count": 17,
   "id": "52da0264",
   "metadata": {},
   "outputs": [
    {
     "name": "stdout",
     "output_type": "stream",
     "text": [
      "Transpose of the given matrix is : \n",
      "1  5  9  \n",
      "2  6  10  \n",
      "3  7  11  \n",
      "4  8  12  \n"
     ]
    }
   ],
   "source": [
    "M = 3\n",
    "N = 4\n",
    "\n",
    "\n",
    "def transpose(A, B):\n",
    "    for i in range(N):\n",
    "        for j in range(M):\n",
    "            B[i][j] = A[j][i]\n",
    "\n",
    "A = [ [1, 2, 3, 4],\n",
    " [5, 6, 7, 8],\n",
    " [9, 10, 11, 12]]\n",
    " \n",
    "B = [[0 for x in range(M)] for y in range(N)]\n",
    "\n",
    "transpose(A, B)\n",
    " \n",
    "print(\"Transpose of the given matrix is : \")\n",
    "for i in range(N):\n",
    "    for j in range(M):\n",
    "        print(B[i][j], \" \", end='')\n",
    "    print() "
   ]
  },
  {
   "cell_type": "code",
   "execution_count": 19,
   "id": "b0260e01",
   "metadata": {},
   "outputs": [],
   "source": [
    "#  4.Write a Python Program to Sort Words in Alphabetic Order?"
   ]
  },
  {
   "cell_type": "code",
   "execution_count": 21,
   "id": "c9b5ab1e",
   "metadata": {},
   "outputs": [
    {
     "name": "stdout",
     "output_type": "stream",
     "text": [
      "a belong family pavan raji sanvi seivi to\n"
     ]
    }
   ],
   "source": [
    "def Func(S):\n",
    "    W = S.split(\" \")\n",
    "    for i in range(len(W)):\n",
    "        W[i]=W[i].lower() \n",
    "    S = sorted(W)\n",
    "    print(' '.join(S))\n",
    " \n",
    "\n",
    "S = \"sanvi seivi pavan raji belong to a family\"\n",
    " \n",
    "Func(S)"
   ]
  },
  {
   "cell_type": "code",
   "execution_count": 22,
   "id": "874080b2",
   "metadata": {},
   "outputs": [],
   "source": [
    "# 5.Write a Python Program to Remove Punctuation From a String?"
   ]
  },
  {
   "cell_type": "code",
   "execution_count": 25,
   "id": "472201c7",
   "metadata": {},
   "outputs": [
    {
     "name": "stdout",
     "output_type": "stream",
     "text": [
      "The actual string is : girls, are: the' best;\n",
      "The string after removal of punctuation is : girls are the best\n"
     ]
    }
   ],
   "source": [
    "a = \"girls, are: the' best;\"\n",
    " \n",
    "\n",
    "print(\"The actual string is : \" + a)\n",
    " \n",
    "symbols = '''!()-[]{};:'\"\\,<>./?@#$%^&*_~'''\n",
    " \n",
    "for i in a:\n",
    "    if i in punc:\n",
    "        a = a.replace(i, \"\")\n",
    "print(\"The string after removal of punctuation is : \" + a)"
   ]
  },
  {
   "cell_type": "code",
   "execution_count": null,
   "id": "acbc06c6",
   "metadata": {},
   "outputs": [],
   "source": []
  }
 ],
 "metadata": {
  "kernelspec": {
   "display_name": "Python 3 (ipykernel)",
   "language": "python",
   "name": "python3"
  },
  "language_info": {
   "codemirror_mode": {
    "name": "ipython",
    "version": 3
   },
   "file_extension": ".py",
   "mimetype": "text/x-python",
   "name": "python",
   "nbconvert_exporter": "python",
   "pygments_lexer": "ipython3",
   "version": "3.9.7"
  }
 },
 "nbformat": 4,
 "nbformat_minor": 5
}
